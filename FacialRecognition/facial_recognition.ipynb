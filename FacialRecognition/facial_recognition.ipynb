{
 "cells": [
  {
   "cell_type": "code",
   "execution_count": null,
   "metadata": {
    "collapsed": true
   },
   "outputs": [],
   "source": [
    "import numpy as np\n",
    "from scipy import linalg as la\n",
    "from os import walk\n",
    "from scipy.ndimage import imread\n",
    "from matplotlib import pyplot as plt\n",
    "from random import sample\n",
    "\n",
    "%matplotlib inline"
   ]
  },
  {
   "cell_type": "code",
   "execution_count": null,
   "metadata": {
    "collapsed": true
   },
   "outputs": [],
   "source": [
    "# Helper function to plot flattened images\n",
    "def plot(img, w=200, h=180):\n",
    "    plt.imshow(img.reshape((w,h)), cmap='gray')"
   ]
  },
  {
   "cell_type": "code",
   "execution_count": null,
   "metadata": {
    "collapsed": false
   },
   "outputs": [],
   "source": [
    "def sampleFaces(n_tests,path = \"./faces94\"):\n",
    "    \"\"\"Return an array containing a sample of n_tests images contained\n",
    "    in the path as flattened images in the columns of the output.\n",
    "    \"\"\"\n",
    "    files = []\n",
    "    for (dirpath, dirnames, filenames) in walk(path):\n",
    "        for f in filenames:\n",
    "            if f[-3:]==\"jpg\": # only get jpg images\n",
    "                files.append(dirpath+\"/\"+f)\n",
    "    # Get a sample of the images.\n",
    "    test_files = sample(files, n_tests)\n",
    "    # Flatten and average the pixel values.\n",
    "    images = np.transpose([imread(f).mean(axis=2).ravel() for f in test_files])\n",
    "    return images"
   ]
  },
  {
   "cell_type": "code",
   "execution_count": null,
   "metadata": {
    "collapsed": true
   },
   "outputs": [],
   "source": [
    "# Problem 1\n",
    "def getFaces(path=\"./faces94\"):\n",
    "    \"\"\"Traverse the directory specified by 'path' and return an array containing one column vector per subdirectory.\n",
    "    For the faces94 dataset, this gives an array with just one column for each\n",
    "    face in the dataset. Each column corresponds to a flattened grayscale image.\n",
    "    \"\"\"\n",
    "    # Traverse the directory and get one image per subdirectory.\n",
    "    faces = []\n",
    "    for (dirpath, dirnames, filenames) in walk(path):\n",
    "        for f in filenames:\n",
    "            if f[-3:] == \"jpg\": # only get jpg images\n",
    "                 # Load the image, convert it to grayscale, flatten it into a vector.\n",
    "                faces.append(imread(dirpath+\"/\"+f).mean(axis=2).ravel())\n",
    "                break\n",
    "    # Put all the face vectors column-wise into a matrix.\n",
    "    return np.transpose(faces)"
   ]
  },
  {
   "cell_type": "code",
   "execution_count": null,
   "metadata": {
    "collapsed": true
   },
   "outputs": [],
   "source": [
    "# Problems 2, 3, 4, 5, 6\n",
    "class FacialRec:\n",
    "    \"\"\"\n",
    "    Attributes:\n",
    "        F\n",
    "        mu\n",
    "        Fbar\n",
    "        U\n",
    "    \"\"\"\n",
    "    def __init__(self,path):\n",
    "        self.initFaces(path)\n",
    "        self.initMeanImage()\n",
    "        self.initDifferences()\n",
    "        self.initEigenfaces()\n",
    "\n",
    "    def initFaces(self, path):\n",
    "        pass\n",
    "    \n",
    "    def initMeanImage(self):\n",
    "        pass\n",
    "    \n",
    "    def initDifferences(self):\n",
    "        pass\n",
    "    \n",
    "    def initEigenfaces(self):\n",
    "        pass\n",
    "    \n",
    "    def project(self, A, s=38):\n",
    "        pass\n",
    "    \n",
    "    def findNearest(self, image, s=38):\n",
    "        \"\"\"Return the index that minimizes ||fhat_i - ghat||_2.\"\"\"\n",
    "        # For both Fhat and ghat, use your project function from the previous problem.\n",
    "        \n",
    "        # Project Fbar, producing a matrix whose columns are f-hat.\n",
    "        # Fhat =\n",
    "        \n",
    "        # Shift 'image' by the mean and project, producing g-hat.\n",
    "        # ghat =\n",
    "        pass"
   ]
  }
 ],
 "metadata": {
  "anaconda-cloud": {},
  "kernelspec": {
   "display_name": "Python [Root]",
   "language": "python",
   "name": "Python [Root]"
  },
  "language_info": {
   "codemirror_mode": {
    "name": "ipython",
    "version": 2
   },
   "file_extension": ".py",
   "mimetype": "text/x-python",
   "name": "python",
   "nbconvert_exporter": "python",
   "pygments_lexer": "ipython2",
   "version": "2.7.12"
  }
 },
 "nbformat": 4,
 "nbformat_minor": 0
}
